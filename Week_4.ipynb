{
 "cells": [
  {
   "cell_type": "markdown",
   "metadata": {
    "_uuid": "d4fba24c2fc97c5651c8b229a864bd3e4fb9c80a"
   },
   "source": [
    "# <center> Assignment #6 (demo).\n",
    "## <center>  Exploring OLS, Lasso and Random Forest in a regression task\n",
    "    \n",
    "<img src=https://habrastorage.org/webt/-h/ns/aa/-hnsaaifymavmmudwip9imcmk58.jpeg width=30%>\n",
    "\n",
    "**Fill in the missing code and choose answers in [this](https://docs.google.com/forms/d/1aHyK58W6oQmNaqEfvpLTpo6Cb0-ntnvJ18rZcvclkvw/edit) web form.**"
   ]
  },
  {
   "cell_type": "code",
   "execution_count": 16,
   "metadata": {
    "_uuid": "5a5dbe8ccaac5938472fffabd662570bbee580a5",
    "jupyter": {
     "outputs_hidden": true
    }
   },
   "outputs": [],
   "source": [
    "import warnings\n",
    "warnings.filterwarnings('ignore')\n",
    "import numpy as np\n",
    "import pandas as pd\n",
    "from sklearn.metrics import mean_squared_error\n",
    "from sklearn.preprocessing import StandardScaler\n",
    "from sklearn.model_selection import GridSearchCV\n",
    "from sklearn.model_selection import cross_val_score, train_test_split\n",
    "from sklearn.linear_model import LinearRegression, LassoCV, Lasso\n",
    "from sklearn.ensemble import RandomForestRegressor"
   ]
  },
  {
   "cell_type": "markdown",
   "metadata": {
    "_uuid": "42c346b2e75d1f1aad91a95e17994c541657c4e5"
   },
   "source": [
    "**We are working with UCI Wine quality dataset (no need to download it – it's already there, in course repo and in Kaggle Dataset).**"
   ]
  },
  {
   "cell_type": "code",
   "execution_count": 5,
   "metadata": {
    "_uuid": "6fbd38aed5fa42e075b5d5a33e8e2da21807ad75",
    "jupyter": {
     "outputs_hidden": true
    }
   },
   "outputs": [],
   "source": [
    "\n",
    "DATA_PATH = \"https://raw.githubusercontent.com/Yorko/mlcourse.ai/master/data/\"\n",
    "data = pd.read_csv(DATA_PATH + \"winequality-white.csv\", sep=\";\")"
   ]
  },
  {
   "cell_type": "code",
   "execution_count": 6,
   "metadata": {
    "_uuid": "0ca6a09adeecd4dc07b33e765baa4ea82820fe37",
    "jupyter": {
     "outputs_hidden": true
    }
   },
   "outputs": [
    {
     "data": {
      "text/html": [
       "<div>\n",
       "<style scoped>\n",
       "    .dataframe tbody tr th:only-of-type {\n",
       "        vertical-align: middle;\n",
       "    }\n",
       "\n",
       "    .dataframe tbody tr th {\n",
       "        vertical-align: top;\n",
       "    }\n",
       "\n",
       "    .dataframe thead th {\n",
       "        text-align: right;\n",
       "    }\n",
       "</style>\n",
       "<table border=\"1\" class=\"dataframe\">\n",
       "  <thead>\n",
       "    <tr style=\"text-align: right;\">\n",
       "      <th></th>\n",
       "      <th>fixed acidity</th>\n",
       "      <th>volatile acidity</th>\n",
       "      <th>citric acid</th>\n",
       "      <th>residual sugar</th>\n",
       "      <th>chlorides</th>\n",
       "      <th>free sulfur dioxide</th>\n",
       "      <th>total sulfur dioxide</th>\n",
       "      <th>density</th>\n",
       "      <th>pH</th>\n",
       "      <th>sulphates</th>\n",
       "      <th>alcohol</th>\n",
       "      <th>quality</th>\n",
       "    </tr>\n",
       "  </thead>\n",
       "  <tbody>\n",
       "    <tr>\n",
       "      <th>0</th>\n",
       "      <td>7.0</td>\n",
       "      <td>0.27</td>\n",
       "      <td>0.36</td>\n",
       "      <td>20.7</td>\n",
       "      <td>0.045</td>\n",
       "      <td>45.0</td>\n",
       "      <td>170.0</td>\n",
       "      <td>1.0010</td>\n",
       "      <td>3.00</td>\n",
       "      <td>0.45</td>\n",
       "      <td>8.8</td>\n",
       "      <td>6</td>\n",
       "    </tr>\n",
       "    <tr>\n",
       "      <th>1</th>\n",
       "      <td>6.3</td>\n",
       "      <td>0.30</td>\n",
       "      <td>0.34</td>\n",
       "      <td>1.6</td>\n",
       "      <td>0.049</td>\n",
       "      <td>14.0</td>\n",
       "      <td>132.0</td>\n",
       "      <td>0.9940</td>\n",
       "      <td>3.30</td>\n",
       "      <td>0.49</td>\n",
       "      <td>9.5</td>\n",
       "      <td>6</td>\n",
       "    </tr>\n",
       "    <tr>\n",
       "      <th>2</th>\n",
       "      <td>8.1</td>\n",
       "      <td>0.28</td>\n",
       "      <td>0.40</td>\n",
       "      <td>6.9</td>\n",
       "      <td>0.050</td>\n",
       "      <td>30.0</td>\n",
       "      <td>97.0</td>\n",
       "      <td>0.9951</td>\n",
       "      <td>3.26</td>\n",
       "      <td>0.44</td>\n",
       "      <td>10.1</td>\n",
       "      <td>6</td>\n",
       "    </tr>\n",
       "    <tr>\n",
       "      <th>3</th>\n",
       "      <td>7.2</td>\n",
       "      <td>0.23</td>\n",
       "      <td>0.32</td>\n",
       "      <td>8.5</td>\n",
       "      <td>0.058</td>\n",
       "      <td>47.0</td>\n",
       "      <td>186.0</td>\n",
       "      <td>0.9956</td>\n",
       "      <td>3.19</td>\n",
       "      <td>0.40</td>\n",
       "      <td>9.9</td>\n",
       "      <td>6</td>\n",
       "    </tr>\n",
       "    <tr>\n",
       "      <th>4</th>\n",
       "      <td>7.2</td>\n",
       "      <td>0.23</td>\n",
       "      <td>0.32</td>\n",
       "      <td>8.5</td>\n",
       "      <td>0.058</td>\n",
       "      <td>47.0</td>\n",
       "      <td>186.0</td>\n",
       "      <td>0.9956</td>\n",
       "      <td>3.19</td>\n",
       "      <td>0.40</td>\n",
       "      <td>9.9</td>\n",
       "      <td>6</td>\n",
       "    </tr>\n",
       "  </tbody>\n",
       "</table>\n",
       "</div>"
      ],
      "text/plain": [
       "   fixed acidity  volatile acidity  citric acid  residual sugar  chlorides  \\\n",
       "0            7.0              0.27         0.36            20.7      0.045   \n",
       "1            6.3              0.30         0.34             1.6      0.049   \n",
       "2            8.1              0.28         0.40             6.9      0.050   \n",
       "3            7.2              0.23         0.32             8.5      0.058   \n",
       "4            7.2              0.23         0.32             8.5      0.058   \n",
       "\n",
       "   free sulfur dioxide  total sulfur dioxide  density    pH  sulphates  \\\n",
       "0                 45.0                 170.0   1.0010  3.00       0.45   \n",
       "1                 14.0                 132.0   0.9940  3.30       0.49   \n",
       "2                 30.0                  97.0   0.9951  3.26       0.44   \n",
       "3                 47.0                 186.0   0.9956  3.19       0.40   \n",
       "4                 47.0                 186.0   0.9956  3.19       0.40   \n",
       "\n",
       "   alcohol  quality  \n",
       "0      8.8        6  \n",
       "1      9.5        6  \n",
       "2     10.1        6  \n",
       "3      9.9        6  \n",
       "4      9.9        6  "
      ]
     },
     "execution_count": 6,
     "metadata": {},
     "output_type": "execute_result"
    }
   ],
   "source": [
    "data.head()"
   ]
  },
  {
   "cell_type": "code",
   "execution_count": 7,
   "metadata": {
    "_uuid": "8567888d41488b52f8b2d3dff80bd2d16c3df07d",
    "jupyter": {
     "outputs_hidden": true
    }
   },
   "outputs": [
    {
     "name": "stdout",
     "output_type": "stream",
     "text": [
      "<class 'pandas.core.frame.DataFrame'>\n",
      "RangeIndex: 4898 entries, 0 to 4897\n",
      "Data columns (total 12 columns):\n",
      " #   Column                Non-Null Count  Dtype  \n",
      "---  ------                --------------  -----  \n",
      " 0   fixed acidity         4898 non-null   float64\n",
      " 1   volatile acidity      4898 non-null   float64\n",
      " 2   citric acid           4898 non-null   float64\n",
      " 3   residual sugar        4898 non-null   float64\n",
      " 4   chlorides             4898 non-null   float64\n",
      " 5   free sulfur dioxide   4898 non-null   float64\n",
      " 6   total sulfur dioxide  4898 non-null   float64\n",
      " 7   density               4898 non-null   float64\n",
      " 8   pH                    4898 non-null   float64\n",
      " 9   sulphates             4898 non-null   float64\n",
      " 10  alcohol               4898 non-null   float64\n",
      " 11  quality               4898 non-null   int64  \n",
      "dtypes: float64(11), int64(1)\n",
      "memory usage: 459.3 KB\n"
     ]
    }
   ],
   "source": [
    "data.info()"
   ]
  },
  {
   "cell_type": "code",
   "execution_count": 10,
   "metadata": {},
   "outputs": [
    {
     "data": {
      "text/plain": [
       "6    2198\n",
       "5    1457\n",
       "7     880\n",
       "8     175\n",
       "4     163\n",
       "3      20\n",
       "9       5\n",
       "Name: quality, dtype: int64"
      ]
     },
     "execution_count": 10,
     "metadata": {},
     "output_type": "execute_result"
    }
   ],
   "source": [
    "data.quality.value_counts()"
   ]
  },
  {
   "cell_type": "markdown",
   "metadata": {
    "_uuid": "40b24e1cbe39da5f25f6abdfa6f4dce01052eba2"
   },
   "source": [
    "**Separate the target feature, split data in 7:3 proportion (30% form a holdout set, use random_state=17), and preprocess data with `StandardScaler`.**"
   ]
  },
  {
   "cell_type": "code",
   "execution_count": 14,
   "metadata": {
    "_uuid": "22991d1fcd912df4535ec8e0dd804d9d66b336f6",
    "jupyter": {
     "outputs_hidden": true
    }
   },
   "outputs": [],
   "source": [
    "y = data.quality  # you code here\n",
    "X = data.loc[:, data.columns != 'quality']\n",
    "X_train, X_holdout, y_train, y_holdout = train_test_split(X,y,test_size=0.3,random_state=17) # you code here\n",
    "\n",
    "scaler = StandardScaler()\n",
    "X_train_scaled = scaler.fit_transform(X_train) # you code here\n",
    "X_holdout_scaled = scaler.transform(X_holdout) # you code here"
   ]
  },
  {
   "cell_type": "markdown",
   "metadata": {
    "_uuid": "4323af0a23b5a874c7fb0fc3bcadeebefd5bdce1"
   },
   "source": [
    "## Linear regression"
   ]
  },
  {
   "cell_type": "markdown",
   "metadata": {
    "_uuid": "39e8d88d30226a24ea1d62cfdf849b9a9b164a3f"
   },
   "source": [
    "**Train a simple linear regression model (Ordinary Least Squares).**"
   ]
  },
  {
   "cell_type": "code",
   "execution_count": 25,
   "metadata": {
    "_uuid": "d228bb880c81ea10ad104e1f9685c8a2ee95ae97",
    "jupyter": {
     "outputs_hidden": true
    }
   },
   "outputs": [],
   "source": [
    "linreg = LinearRegression() # you code here\n",
    "model = linreg.fit(X_train_scaled,y_train) # you code here\n",
    "\n",
    "y1 = model.predict(X_train_scaled)\n",
    "y2 = model.predict(X_holdout_scaled)"
   ]
  },
  {
   "cell_type": "markdown",
   "metadata": {
    "_uuid": "143bd8c03bc75265fe317b7163ea9992fec72a52"
   },
   "source": [
    "**<font color='red'>Question 1:</font> What are mean squared errors of model predictions on train and holdout sets?**"
   ]
  },
  {
   "cell_type": "code",
   "execution_count": 26,
   "metadata": {
    "_uuid": "546f6310409fd0cced8e9cf9b5b9b647bc519b4a",
    "jupyter": {
     "outputs_hidden": true
    }
   },
   "outputs": [
    {
     "name": "stdout",
     "output_type": "stream",
     "text": [
      "Mean squared error (train): 0.558\n",
      "Mean squared error (test): 0.584\n"
     ]
    }
   ],
   "source": [
    "print(\"Mean squared error (train): %.3f\" %mean_squared_error(y1,y_train)) # you code here\n",
    "print(\"Mean squared error (test): %.3f\" %mean_squared_error(y2,y_holdout) )# you code here"
   ]
  },
  {
   "cell_type": "markdown",
   "metadata": {
    "_uuid": "eb150b4956b12f57d7a4d2a868b220d56951c70d"
   },
   "source": [
    "**Sort features by their influence on the target feature (wine quality). Beware that both large positive and large negative coefficients mean large influence on target. It's handy to use `pandas.DataFrame` here.**\n",
    "\n",
    "**<font color='red'>Question 2:</font> Which feature this linear regression model treats as the most influential on wine quality?**"
   ]
  },
  {
   "cell_type": "code",
   "execution_count": 53,
   "metadata": {
    "_uuid": "00f2cd04fdee695e60a0019a095999c1b9d98ff7",
    "jupyter": {
     "outputs_hidden": true
    }
   },
   "outputs": [
    {
     "data": {
      "text/html": [
       "<div>\n",
       "<style scoped>\n",
       "    .dataframe tbody tr th:only-of-type {\n",
       "        vertical-align: middle;\n",
       "    }\n",
       "\n",
       "    .dataframe tbody tr th {\n",
       "        vertical-align: top;\n",
       "    }\n",
       "\n",
       "    .dataframe thead th {\n",
       "        text-align: right;\n",
       "    }\n",
       "</style>\n",
       "<table border=\"1\" class=\"dataframe\">\n",
       "  <thead>\n",
       "    <tr style=\"text-align: right;\">\n",
       "      <th></th>\n",
       "      <th>coef</th>\n",
       "      <th>abs</th>\n",
       "    </tr>\n",
       "  </thead>\n",
       "  <tbody>\n",
       "    <tr>\n",
       "      <th>citric acid</th>\n",
       "      <td>-0.000183</td>\n",
       "      <td>0.000183</td>\n",
       "    </tr>\n",
       "    <tr>\n",
       "      <th>chlorides</th>\n",
       "      <td>0.008127</td>\n",
       "      <td>0.008127</td>\n",
       "    </tr>\n",
       "    <tr>\n",
       "      <th>total sulfur dioxide</th>\n",
       "      <td>0.014304</td>\n",
       "      <td>0.014304</td>\n",
       "    </tr>\n",
       "    <tr>\n",
       "      <th>free sulfur dioxide</th>\n",
       "      <td>0.042180</td>\n",
       "      <td>0.042180</td>\n",
       "    </tr>\n",
       "    <tr>\n",
       "      <th>sulphates</th>\n",
       "      <td>0.062053</td>\n",
       "      <td>0.062053</td>\n",
       "    </tr>\n",
       "    <tr>\n",
       "      <th>fixed acidity</th>\n",
       "      <td>0.097822</td>\n",
       "      <td>0.097822</td>\n",
       "    </tr>\n",
       "    <tr>\n",
       "      <th>alcohol</th>\n",
       "      <td>0.129533</td>\n",
       "      <td>0.129533</td>\n",
       "    </tr>\n",
       "    <tr>\n",
       "      <th>pH</th>\n",
       "      <td>0.150036</td>\n",
       "      <td>0.150036</td>\n",
       "    </tr>\n",
       "    <tr>\n",
       "      <th>volatile acidity</th>\n",
       "      <td>-0.192260</td>\n",
       "      <td>0.192260</td>\n",
       "    </tr>\n",
       "    <tr>\n",
       "      <th>residual sugar</th>\n",
       "      <td>0.538164</td>\n",
       "      <td>0.538164</td>\n",
       "    </tr>\n",
       "    <tr>\n",
       "      <th>density</th>\n",
       "      <td>-0.665720</td>\n",
       "      <td>0.665720</td>\n",
       "    </tr>\n",
       "  </tbody>\n",
       "</table>\n",
       "</div>"
      ],
      "text/plain": [
       "                          coef       abs\n",
       "citric acid          -0.000183  0.000183\n",
       "chlorides             0.008127  0.008127\n",
       "total sulfur dioxide  0.014304  0.014304\n",
       "free sulfur dioxide   0.042180  0.042180\n",
       "sulphates             0.062053  0.062053\n",
       "fixed acidity         0.097822  0.097822\n",
       "alcohol               0.129533  0.129533\n",
       "pH                    0.150036  0.150036\n",
       "volatile acidity     -0.192260  0.192260\n",
       "residual sugar        0.538164  0.538164\n",
       "density              -0.665720  0.665720"
      ]
     },
     "execution_count": 53,
     "metadata": {},
     "output_type": "execute_result"
    }
   ],
   "source": [
    "\n",
    "linreg_coef = pd.DataFrame(model.coef_,index = data.columns[0:11],columns = ['coef']) \n",
    "linreg_coef['abs'] = np.absolute(linreg_coef['coef']) # you code here\n",
    "linreg_coef.sort_values(by = 'abs') # you code here"
   ]
  },
  {
   "cell_type": "markdown",
   "metadata": {
    "_uuid": "c8180a8be8a1c16db3b3a4b2f1b045360fffedb8"
   },
   "source": [
    "## Lasso regression"
   ]
  },
  {
   "cell_type": "markdown",
   "metadata": {
    "_uuid": "ec78a7a6489c112634ab66ee3c8a64732333b255"
   },
   "source": [
    "**Train a LASSO model with $\\alpha = 0.01$ (weak regularization) and scaled data. Again, set random_state=17.**"
   ]
  },
  {
   "cell_type": "code",
   "execution_count": 61,
   "metadata": {
    "_uuid": "c93c9f0aef5c045104cd170a415f0138ecfde280",
    "jupyter": {
     "outputs_hidden": true
    }
   },
   "outputs": [],
   "source": [
    "lasso1 = Lasso(alpha=0.01,random_state=17) # you code here\n",
    "lasso1.fit(X_train_scaled,y_train) # you code her\n",
    "lasso_y_test = lasso1.predict(X_holdout_scaled)"
   ]
  },
  {
   "cell_type": "markdown",
   "metadata": {
    "_uuid": "2ebc826e15035e973f142ea14529e9ea62f0eaae"
   },
   "source": [
    "**Which feature is the least informative in predicting wine quality, according to this LASSO model?**"
   ]
  },
  {
   "cell_type": "code",
   "execution_count": 62,
   "metadata": {
    "_uuid": "a3e0123570f2bfc183e9af04fc09de4aa00a3e33",
    "jupyter": {
     "outputs_hidden": true
    }
   },
   "outputs": [
    {
     "data": {
      "text/html": [
       "<div>\n",
       "<style scoped>\n",
       "    .dataframe tbody tr th:only-of-type {\n",
       "        vertical-align: middle;\n",
       "    }\n",
       "\n",
       "    .dataframe tbody tr th {\n",
       "        vertical-align: top;\n",
       "    }\n",
       "\n",
       "    .dataframe thead th {\n",
       "        text-align: right;\n",
       "    }\n",
       "</style>\n",
       "<table border=\"1\" class=\"dataframe\">\n",
       "  <thead>\n",
       "    <tr style=\"text-align: right;\">\n",
       "      <th></th>\n",
       "      <th>coef</th>\n",
       "      <th>abs</th>\n",
       "    </tr>\n",
       "  </thead>\n",
       "  <tbody>\n",
       "    <tr>\n",
       "      <th>fixed acidity</th>\n",
       "      <td>-0.000000</td>\n",
       "      <td>0.000000</td>\n",
       "    </tr>\n",
       "    <tr>\n",
       "      <th>citric acid</th>\n",
       "      <td>-0.000000</td>\n",
       "      <td>0.000000</td>\n",
       "    </tr>\n",
       "    <tr>\n",
       "      <th>total sulfur dioxide</th>\n",
       "      <td>-0.000000</td>\n",
       "      <td>0.000000</td>\n",
       "    </tr>\n",
       "    <tr>\n",
       "      <th>chlorides</th>\n",
       "      <td>-0.002747</td>\n",
       "      <td>0.002747</td>\n",
       "    </tr>\n",
       "    <tr>\n",
       "      <th>sulphates</th>\n",
       "      <td>0.029722</td>\n",
       "      <td>0.029722</td>\n",
       "    </tr>\n",
       "    <tr>\n",
       "      <th>free sulfur dioxide</th>\n",
       "      <td>0.043088</td>\n",
       "      <td>0.043088</td>\n",
       "    </tr>\n",
       "    <tr>\n",
       "      <th>pH</th>\n",
       "      <td>0.067277</td>\n",
       "      <td>0.067277</td>\n",
       "    </tr>\n",
       "    <tr>\n",
       "      <th>volatile acidity</th>\n",
       "      <td>-0.188479</td>\n",
       "      <td>0.188479</td>\n",
       "    </tr>\n",
       "    <tr>\n",
       "      <th>density</th>\n",
       "      <td>-0.235492</td>\n",
       "      <td>0.235492</td>\n",
       "    </tr>\n",
       "    <tr>\n",
       "      <th>residual sugar</th>\n",
       "      <td>0.256363</td>\n",
       "      <td>0.256363</td>\n",
       "    </tr>\n",
       "    <tr>\n",
       "      <th>alcohol</th>\n",
       "      <td>0.322425</td>\n",
       "      <td>0.322425</td>\n",
       "    </tr>\n",
       "  </tbody>\n",
       "</table>\n",
       "</div>"
      ],
      "text/plain": [
       "                          coef       abs\n",
       "fixed acidity        -0.000000  0.000000\n",
       "citric acid          -0.000000  0.000000\n",
       "total sulfur dioxide -0.000000  0.000000\n",
       "chlorides            -0.002747  0.002747\n",
       "sulphates             0.029722  0.029722\n",
       "free sulfur dioxide   0.043088  0.043088\n",
       "pH                    0.067277  0.067277\n",
       "volatile acidity     -0.188479  0.188479\n",
       "density              -0.235492  0.235492\n",
       "residual sugar        0.256363  0.256363\n",
       "alcohol               0.322425  0.322425"
      ]
     },
     "execution_count": 62,
     "metadata": {},
     "output_type": "execute_result"
    }
   ],
   "source": [
    "lasso1_coef = pd.DataFrame(lasso1.coef_,index = data.columns[0:11],columns = ['coef'])  # you code here\n",
    "lasso1_coef['abs'] = lasso1_coef['coef'].apply(lambda x: abs(x)) # you code here\n",
    "lasso1_coef.sort_values(by = 'abs') # you code here"
   ]
  },
  {
   "cell_type": "markdown",
   "metadata": {
    "_uuid": "34daf26da8dc65ca9dea1390b1c990bdb1e746fe"
   },
   "source": [
    "**Train LassoCV with random_state=17 to choose the best value of $\\alpha$ in 5-fold cross-validation.**"
   ]
  },
  {
   "cell_type": "code",
   "execution_count": 64,
   "metadata": {
    "_uuid": "1261f3d8b86bf6b32a47f4fbd6421a224a32fb25",
    "jupyter": {
     "outputs_hidden": true
    }
   },
   "outputs": [
    {
     "data": {
      "text/plain": [
       "LassoCV(alphas=array([1.00000000e-06, 1.09698580e-06, 1.20337784e-06, 1.32008840e-06,\n",
       "       1.44811823e-06, 1.58856513e-06, 1.74263339e-06, 1.91164408e-06,\n",
       "       2.09704640e-06, 2.30043012e-06, 2.52353917e-06, 2.76828663e-06,\n",
       "       3.03677112e-06, 3.33129479e-06, 3.65438307e-06, 4.00880633e-06,\n",
       "       4.39760361e-06, 4.82410870e-06, 5.29197874e-06, 5.80522552e-06,\n",
       "       6.36824994e-06, 6.98587975e-0...\n",
       "       1.18953407e+01, 1.30490198e+01, 1.43145894e+01, 1.57029012e+01,\n",
       "       1.72258597e+01, 1.88965234e+01, 2.07292178e+01, 2.27396575e+01,\n",
       "       2.49450814e+01, 2.73644000e+01, 3.00183581e+01, 3.29297126e+01,\n",
       "       3.61234270e+01, 3.96268864e+01, 4.34701316e+01, 4.76861170e+01,\n",
       "       5.23109931e+01, 5.73844165e+01, 6.29498899e+01, 6.90551352e+01,\n",
       "       7.57525026e+01, 8.30994195e+01, 9.11588830e+01, 1.00000000e+02]),\n",
       "        n_jobs=-1, random_state=17)"
      ]
     },
     "execution_count": 64,
     "metadata": {},
     "output_type": "execute_result"
    }
   ],
   "source": [
    "\n",
    "\n",
    "alphas = np.logspace(-6, 2, 200)\n",
    "lasso_cv = LassoCV(alphas = alphas,n_jobs = -1,random_state=17) # you code here\n",
    "lasso_cv.fit(X_train_scaled,y_train) # you code here"
   ]
  },
  {
   "cell_type": "code",
   "execution_count": 65,
   "metadata": {
    "_uuid": "11cfcfa256d3fadcc41c17c4a203980f43270f86",
    "jupyter": {
     "outputs_hidden": true
    }
   },
   "outputs": [
    {
     "data": {
      "text/plain": [
       "0.0002833096101839324"
      ]
     },
     "execution_count": 65,
     "metadata": {},
     "output_type": "execute_result"
    }
   ],
   "source": [
    "lasso_cv.alpha_"
   ]
  },
  {
   "cell_type": "markdown",
   "metadata": {
    "_uuid": "774659494a9e10c5880a061b77f0ad4de3f6f48c"
   },
   "source": [
    "**<font color='red'>Question 3:</font> Which feature is the least informative in predicting wine quality, according to the tuned LASSO model?**"
   ]
  },
  {
   "cell_type": "code",
   "execution_count": 68,
   "metadata": {
    "_uuid": "e48d180e412893f9b510a39edcf612d13a865dc9",
    "jupyter": {
     "outputs_hidden": true
    }
   },
   "outputs": [
    {
     "data": {
      "text/html": [
       "<div>\n",
       "<style scoped>\n",
       "    .dataframe tbody tr th:only-of-type {\n",
       "        vertical-align: middle;\n",
       "    }\n",
       "\n",
       "    .dataframe tbody tr th {\n",
       "        vertical-align: top;\n",
       "    }\n",
       "\n",
       "    .dataframe thead th {\n",
       "        text-align: right;\n",
       "    }\n",
       "</style>\n",
       "<table border=\"1\" class=\"dataframe\">\n",
       "  <thead>\n",
       "    <tr style=\"text-align: right;\">\n",
       "      <th></th>\n",
       "      <th>coef</th>\n",
       "      <th>abs</th>\n",
       "    </tr>\n",
       "  </thead>\n",
       "  <tbody>\n",
       "    <tr>\n",
       "      <th>citric acid</th>\n",
       "      <td>-0.000000</td>\n",
       "      <td>0.000000</td>\n",
       "    </tr>\n",
       "    <tr>\n",
       "      <th>chlorides</th>\n",
       "      <td>0.006933</td>\n",
       "      <td>0.006933</td>\n",
       "    </tr>\n",
       "    <tr>\n",
       "      <th>total sulfur dioxide</th>\n",
       "      <td>0.012969</td>\n",
       "      <td>0.012969</td>\n",
       "    </tr>\n",
       "    <tr>\n",
       "      <th>free sulfur dioxide</th>\n",
       "      <td>0.042698</td>\n",
       "      <td>0.042698</td>\n",
       "    </tr>\n",
       "    <tr>\n",
       "      <th>sulphates</th>\n",
       "      <td>0.060939</td>\n",
       "      <td>0.060939</td>\n",
       "    </tr>\n",
       "    <tr>\n",
       "      <th>fixed acidity</th>\n",
       "      <td>0.093295</td>\n",
       "      <td>0.093295</td>\n",
       "    </tr>\n",
       "    <tr>\n",
       "      <th>alcohol</th>\n",
       "      <td>0.137115</td>\n",
       "      <td>0.137115</td>\n",
       "    </tr>\n",
       "    <tr>\n",
       "      <th>pH</th>\n",
       "      <td>0.146549</td>\n",
       "      <td>0.146549</td>\n",
       "    </tr>\n",
       "    <tr>\n",
       "      <th>volatile acidity</th>\n",
       "      <td>-0.192049</td>\n",
       "      <td>0.192049</td>\n",
       "    </tr>\n",
       "    <tr>\n",
       "      <th>residual sugar</th>\n",
       "      <td>0.526883</td>\n",
       "      <td>0.526883</td>\n",
       "    </tr>\n",
       "    <tr>\n",
       "      <th>density</th>\n",
       "      <td>-0.648161</td>\n",
       "      <td>0.648161</td>\n",
       "    </tr>\n",
       "  </tbody>\n",
       "</table>\n",
       "</div>"
      ],
      "text/plain": [
       "                          coef       abs\n",
       "citric acid          -0.000000  0.000000\n",
       "chlorides             0.006933  0.006933\n",
       "total sulfur dioxide  0.012969  0.012969\n",
       "free sulfur dioxide   0.042698  0.042698\n",
       "sulphates             0.060939  0.060939\n",
       "fixed acidity         0.093295  0.093295\n",
       "alcohol               0.137115  0.137115\n",
       "pH                    0.146549  0.146549\n",
       "volatile acidity     -0.192049  0.192049\n",
       "residual sugar        0.526883  0.526883\n",
       "density              -0.648161  0.648161"
      ]
     },
     "execution_count": 68,
     "metadata": {},
     "output_type": "execute_result"
    }
   ],
   "source": [
    "lasso2 = Lasso(alpha=lasso_cv.alpha_,random_state=17) # you code here\n",
    "lasso2.fit(X_train_scaled,y_train) # you code her\n",
    "lasso2_y_test = lasso2.predict(X_holdout_scaled)\n",
    "lasso2_y_train = lasso2.predict(X_train_scaled)\n",
    "lasso2_coef = pd.DataFrame(lasso2.coef_,index = data.columns[0:11],columns = ['coef'])  # you code here\n",
    "lasso2_coef['abs'] = lasso2_coef['coef'].apply(lambda x: abs(x)) # you code here\n",
    "lasso2_coef.sort_values(by = 'abs') # you code here"
   ]
  },
  {
   "cell_type": "markdown",
   "metadata": {
    "_uuid": "6784416717d86f9693adc016ebf2805d82e1f44f"
   },
   "source": [
    "**<font color='red'>Question 4:</font> What are mean squared errors of tuned LASSO predictions on train and holdout sets?**"
   ]
  },
  {
   "cell_type": "code",
   "execution_count": 70,
   "metadata": {
    "_uuid": "8c1e912d29500bdd01232dffb7b7b12708a61354",
    "jupyter": {
     "outputs_hidden": true
    }
   },
   "outputs": [
    {
     "name": "stdout",
     "output_type": "stream",
     "text": [
      "Mean squared error (train): 0.558\n",
      "Mean squared error (test): 0.583\n"
     ]
    }
   ],
   "source": [
    "print(\"Mean squared error (train): %.3f\" %mean_squared_error(lasso2_y_train,y_train))# you code here\n",
    "print(\"Mean squared error (test): %.3f\" %mean_squared_error(lasso2_y_test,y_holdout)) # you code here"
   ]
  },
  {
   "cell_type": "markdown",
   "metadata": {
    "_uuid": "cece55c36b4975456ac808ed60f80c4607bce364"
   },
   "source": [
    "## Random Forest"
   ]
  },
  {
   "cell_type": "markdown",
   "metadata": {
    "_uuid": "2b1d919f11b7552d1fd5218469049cbceb0c6b12"
   },
   "source": [
    "**Train a Random Forest with out-of-the-box parameters, setting only random_state to be 17.**"
   ]
  },
  {
   "cell_type": "code",
   "execution_count": 103,
   "metadata": {},
   "outputs": [],
   "source": [
    "forest = RandomForestRegressor(n_jobs=-1,random_state=17) # you code here\n",
    "forest.fit(X_train,y_train) # you code here\n",
    "y_test_predict = forest.predict(X_holdout)\n",
    "y_train_predict = forest.predict(X_train)"
   ]
  },
  {
   "cell_type": "markdown",
   "metadata": {
    "_uuid": "79d151e17dda0fa3667e01f5514edc9fa471a99f"
   },
   "source": [
    "**<font color='red'>Question 5:</font> What are mean squared errors of RF model on the training set, in cross-validation (cross_val_score with scoring='neg_mean_squared_error' and other arguments left with default values) and on holdout set?**"
   ]
  },
  {
   "cell_type": "code",
   "execution_count": 101,
   "metadata": {
    "_uuid": "78cb1562e5250e2c495954ed2f2007db4e9bd4ac",
    "jupyter": {
     "outputs_hidden": true
    }
   },
   "outputs": [
    {
     "name": "stdout",
     "output_type": "stream",
     "text": [
      "Mean squared error (train): 0.054\n",
      "Mean squared error (cv): 0.408\n",
      "Mean squared error (test): 0.376\n"
     ]
    }
   ],
   "source": [
    "print(\"Mean squared error (train): %.3f\" %mean_squared_error(y_train_predict,y_train)) # you code here\n",
    "print(\"Mean squared error (cv): %.3f\" % np.mean(np.abs(cross_val_score(forest,X = X_train_scaled,y = y_train,scoring='neg_mean_squared_error'))))\n",
    "print(\"Mean squared error (test): %.3f\" %mean_squared_error(y_test_predict,y_holdout) )# you code here"
   ]
  },
  {
   "cell_type": "markdown",
   "metadata": {
    "_uuid": "cbfda28eb1ad4d6d0a8b640e6bcee1a6c2a0d83a"
   },
   "source": [
    "**Tune the `max_features` and `max_depth` hyperparameters with GridSearchCV and again check mean cross-validation MSE and MSE on holdout set.**"
   ]
  },
  {
   "cell_type": "code",
   "execution_count": 111,
   "metadata": {
    "_uuid": "b8fcca3ab63a14e9ebe4e05f1b706affee19ec15",
    "jupyter": {
     "outputs_hidden": true
    }
   },
   "outputs": [
    {
     "data": {
      "text/plain": [
       "GridSearchCV(estimator=RandomForestRegressor(n_jobs=-1, random_state=17),\n",
       "             n_jobs=-1,\n",
       "             param_grid={'max_depth': [10, 11, 12, 13, 14, 15, 16, 17, 18, 19,\n",
       "                                       20, 21, 22, 23, 24],\n",
       "                         'max_features': [6, 7, 8, 9, 10, 11]},\n",
       "             scoring='neg_mean_squared_error')"
      ]
     },
     "execution_count": 111,
     "metadata": {},
     "output_type": "execute_result"
    }
   ],
   "source": [
    "forest_params = {'max_depth': list(range(10, 25)), \n",
    "                 'max_features': list(range(6,12))}\n",
    "forest2 = RandomForestRegressor(n_jobs=-1,random_state=17)\n",
    "locally_best_forest = GridSearchCV(forest2,param_grid=forest_params,n_jobs=-1,scoring=\"neg_mean_squared_error\",) # you code here\n",
    "locally_best_forest.fit(X_train_scaled,y_train) # you code here"
   ]
  },
  {
   "cell_type": "code",
   "execution_count": 113,
   "metadata": {
    "_uuid": "daa31046bca781b63e8b08d941d270ed39cca694",
    "jupyter": {
     "outputs_hidden": true
    }
   },
   "outputs": [
    {
     "data": {
      "text/plain": [
       "({'max_depth': 21, 'max_features': 6}, -0.39773288191505934)"
      ]
     },
     "execution_count": 113,
     "metadata": {},
     "output_type": "execute_result"
    }
   ],
   "source": [
    " locally_best_forest.best_params_, locally_best_forest.best_score_"
   ]
  },
  {
   "cell_type": "markdown",
   "metadata": {
    "_uuid": "f3b5f128ac9d25d6a2fe001e1b945d890e4e125a"
   },
   "source": [
    "**<font color='red'>Question 6:</font> What are mean squared errors of tuned RF model in cross-validation (cross_val_score with scoring='neg_mean_squared_error' and other arguments left with default values) and on holdout set?**"
   ]
  },
  {
   "cell_type": "code",
   "execution_count": 116,
   "metadata": {
    "_uuid": "8b1c78727baa4caa5e5de4fc99289f9c38a78eca",
    "jupyter": {
     "outputs_hidden": true
    }
   },
   "outputs": [
    {
     "name": "stdout",
     "output_type": "stream",
     "text": [
      "Mean squared error (cv): 1.989\n",
      "Mean squared error (test): 0.938\n"
     ]
    }
   ],
   "source": [
    "final_forest = RandomForestRegressor(max_depth=21,max_features=6,random_state = 17)\n",
    "final_forest.fit(X_train_scaled,y_train)\n",
    "y_1 = final_forest.predict(X_holdout)\n",
    "print(\"Mean squared error (cv): %.3f\" % np.sum(np.abs(cross_val_score(locally_best_forest.best_estimator_,X_train_scaled,y_train,scoring='neg_mean_squared_error'))))\n",
    "\n",
    "print(\"Mean squared error (test): %.3f\" %mean_squared_error(y_holdout,y_1)) # you code here"
   ]
  },
  {
   "cell_type": "markdown",
   "metadata": {
    "_uuid": "2edaca791a764dcbd8c255c622046a3262c9d343"
   },
   "source": [
    "**Output RF's feature importance. Again, it's nice to present it as a DataFrame.**<br>\n",
    "**<font color='red'>Question 7:</font> What is the most important feature, according to the Random Forest model?**"
   ]
  },
  {
   "cell_type": "code",
   "execution_count": 127,
   "metadata": {
    "_uuid": "c5fc1d874ba41c152e0c1dd11eba469320a91613",
    "jupyter": {
     "outputs_hidden": true
    }
   },
   "outputs": [
    {
     "data": {
      "text/html": [
       "<div>\n",
       "<style scoped>\n",
       "    .dataframe tbody tr th:only-of-type {\n",
       "        vertical-align: middle;\n",
       "    }\n",
       "\n",
       "    .dataframe tbody tr th {\n",
       "        vertical-align: top;\n",
       "    }\n",
       "\n",
       "    .dataframe thead th {\n",
       "        text-align: right;\n",
       "    }\n",
       "</style>\n",
       "<table border=\"1\" class=\"dataframe\">\n",
       "  <thead>\n",
       "    <tr style=\"text-align: right;\">\n",
       "      <th></th>\n",
       "      <th>coef</th>\n",
       "    </tr>\n",
       "  </thead>\n",
       "  <tbody>\n",
       "    <tr>\n",
       "      <th>sulphates</th>\n",
       "      <td>0.059111</td>\n",
       "    </tr>\n",
       "    <tr>\n",
       "      <th>fixed acidity</th>\n",
       "      <td>0.061813</td>\n",
       "    </tr>\n",
       "    <tr>\n",
       "      <th>citric acid</th>\n",
       "      <td>0.062601</td>\n",
       "    </tr>\n",
       "    <tr>\n",
       "      <th>residual sugar</th>\n",
       "      <td>0.072072</td>\n",
       "    </tr>\n",
       "    <tr>\n",
       "      <th>chlorides</th>\n",
       "      <td>0.073366</td>\n",
       "    </tr>\n",
       "    <tr>\n",
       "      <th>total sulfur dioxide</th>\n",
       "      <td>0.073640</td>\n",
       "    </tr>\n",
       "    <tr>\n",
       "      <th>pH</th>\n",
       "      <td>0.073659</td>\n",
       "    </tr>\n",
       "    <tr>\n",
       "      <th>density</th>\n",
       "      <td>0.088549</td>\n",
       "    </tr>\n",
       "    <tr>\n",
       "      <th>free sulfur dioxide</th>\n",
       "      <td>0.111556</td>\n",
       "    </tr>\n",
       "    <tr>\n",
       "      <th>volatile acidity</th>\n",
       "      <td>0.117578</td>\n",
       "    </tr>\n",
       "    <tr>\n",
       "      <th>alcohol</th>\n",
       "      <td>0.206056</td>\n",
       "    </tr>\n",
       "  </tbody>\n",
       "</table>\n",
       "</div>"
      ],
      "text/plain": [
       "                          coef\n",
       "sulphates             0.059111\n",
       "fixed acidity         0.061813\n",
       "citric acid           0.062601\n",
       "residual sugar        0.072072\n",
       "chlorides             0.073366\n",
       "total sulfur dioxide  0.073640\n",
       "pH                    0.073659\n",
       "density               0.088549\n",
       "free sulfur dioxide   0.111556\n",
       "volatile acidity      0.117578\n",
       "alcohol               0.206056"
      ]
     },
     "execution_count": 127,
     "metadata": {},
     "output_type": "execute_result"
    }
   ],
   "source": [
    "rf_importance = pd.DataFrame(final_forest.feature_importances_,index = data.columns[0:11],columns = ['coef']) \n",
    "rf_importance\n",
    "rf_importance.sort_values(by = 'coef') # you code here"
   ]
  },
  {
   "cell_type": "markdown",
   "metadata": {
    "_uuid": "bc3c0e87a735ef74b1d1de869dd8ceae9fa42f9a"
   },
   "source": [
    "**Make conclusions about the perdormance of the explored 3 models in this particular prediction task.**"
   ]
  }
 ],
 "metadata": {
  "anaconda-cloud": {},
  "kernelspec": {
   "display_name": "Python 3 (ipykernel)",
   "language": "python",
   "name": "python3"
  },
  "language_info": {
   "codemirror_mode": {
    "name": "ipython",
    "version": 3
   },
   "file_extension": ".py",
   "mimetype": "text/x-python",
   "name": "python",
   "nbconvert_exporter": "python",
   "pygments_lexer": "ipython3",
   "version": "3.9.7"
  },
  "name": "lesson8_part1_kmeans.ipynb"
 },
 "nbformat": 4,
 "nbformat_minor": 4
}
